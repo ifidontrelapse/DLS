{
 "cells": [
  {
   "cell_type": "code",
   "execution_count": 1,
   "id": "1d01df3a",
   "metadata": {},
   "outputs": [],
   "source": [
    "import pandas as pd\n",
    "import numpy as np\n",
    "from sklearn.neighbors import KNeighborsRegressor\n",
    "from sklearn.linear_model import LinearRegression\n",
    "from sklearn.model_selection import train_test_split\n",
    "from sklearn.tree import DecisionTreeRegressor\n",
    "import seaborn as sns"
   ]
  },
  {
   "cell_type": "code",
   "execution_count": 2,
   "id": "336ec898",
   "metadata": {},
   "outputs": [
    {
     "data": {
      "text/html": [
       "<div>\n",
       "<style scoped>\n",
       "    .dataframe tbody tr th:only-of-type {\n",
       "        vertical-align: middle;\n",
       "    }\n",
       "\n",
       "    .dataframe tbody tr th {\n",
       "        vertical-align: top;\n",
       "    }\n",
       "\n",
       "    .dataframe thead th {\n",
       "        text-align: right;\n",
       "    }\n",
       "</style>\n",
       "<table border=\"1\" class=\"dataframe\">\n",
       "  <thead>\n",
       "    <tr style=\"text-align: right;\">\n",
       "      <th></th>\n",
       "      <th>site</th>\n",
       "      <th>age</th>\n",
       "      <th>hdlngth</th>\n",
       "      <th>skullw</th>\n",
       "      <th>totlngth</th>\n",
       "      <th>taill</th>\n",
       "      <th>footlgth</th>\n",
       "      <th>earconch</th>\n",
       "      <th>eye</th>\n",
       "      <th>chest</th>\n",
       "      <th>belly</th>\n",
       "    </tr>\n",
       "  </thead>\n",
       "  <tbody>\n",
       "    <tr>\n",
       "      <th>count</th>\n",
       "      <td>104.000000</td>\n",
       "      <td>102.000000</td>\n",
       "      <td>104.000000</td>\n",
       "      <td>104.000000</td>\n",
       "      <td>104.000000</td>\n",
       "      <td>104.000000</td>\n",
       "      <td>103.000000</td>\n",
       "      <td>104.000000</td>\n",
       "      <td>104.000000</td>\n",
       "      <td>104.000000</td>\n",
       "      <td>104.000000</td>\n",
       "    </tr>\n",
       "    <tr>\n",
       "      <th>mean</th>\n",
       "      <td>3.625000</td>\n",
       "      <td>3.833333</td>\n",
       "      <td>92.602885</td>\n",
       "      <td>56.883654</td>\n",
       "      <td>87.088462</td>\n",
       "      <td>37.009615</td>\n",
       "      <td>68.459223</td>\n",
       "      <td>48.130769</td>\n",
       "      <td>15.046154</td>\n",
       "      <td>27.000000</td>\n",
       "      <td>32.586538</td>\n",
       "    </tr>\n",
       "    <tr>\n",
       "      <th>std</th>\n",
       "      <td>2.349086</td>\n",
       "      <td>1.909244</td>\n",
       "      <td>3.573349</td>\n",
       "      <td>3.113426</td>\n",
       "      <td>4.310549</td>\n",
       "      <td>1.959518</td>\n",
       "      <td>4.395306</td>\n",
       "      <td>4.109380</td>\n",
       "      <td>1.050374</td>\n",
       "      <td>2.045597</td>\n",
       "      <td>2.761949</td>\n",
       "    </tr>\n",
       "    <tr>\n",
       "      <th>min</th>\n",
       "      <td>1.000000</td>\n",
       "      <td>1.000000</td>\n",
       "      <td>82.500000</td>\n",
       "      <td>50.000000</td>\n",
       "      <td>75.000000</td>\n",
       "      <td>32.000000</td>\n",
       "      <td>60.300000</td>\n",
       "      <td>40.300000</td>\n",
       "      <td>12.800000</td>\n",
       "      <td>22.000000</td>\n",
       "      <td>25.000000</td>\n",
       "    </tr>\n",
       "    <tr>\n",
       "      <th>25%</th>\n",
       "      <td>1.000000</td>\n",
       "      <td>2.250000</td>\n",
       "      <td>90.675000</td>\n",
       "      <td>54.975000</td>\n",
       "      <td>84.000000</td>\n",
       "      <td>35.875000</td>\n",
       "      <td>64.600000</td>\n",
       "      <td>44.800000</td>\n",
       "      <td>14.400000</td>\n",
       "      <td>25.500000</td>\n",
       "      <td>31.000000</td>\n",
       "    </tr>\n",
       "    <tr>\n",
       "      <th>50%</th>\n",
       "      <td>3.000000</td>\n",
       "      <td>3.000000</td>\n",
       "      <td>92.800000</td>\n",
       "      <td>56.350000</td>\n",
       "      <td>88.000000</td>\n",
       "      <td>37.000000</td>\n",
       "      <td>68.000000</td>\n",
       "      <td>46.800000</td>\n",
       "      <td>14.900000</td>\n",
       "      <td>27.000000</td>\n",
       "      <td>32.500000</td>\n",
       "    </tr>\n",
       "    <tr>\n",
       "      <th>75%</th>\n",
       "      <td>6.000000</td>\n",
       "      <td>5.000000</td>\n",
       "      <td>94.725000</td>\n",
       "      <td>58.100000</td>\n",
       "      <td>90.000000</td>\n",
       "      <td>38.000000</td>\n",
       "      <td>72.500000</td>\n",
       "      <td>52.000000</td>\n",
       "      <td>15.725000</td>\n",
       "      <td>28.000000</td>\n",
       "      <td>34.125000</td>\n",
       "    </tr>\n",
       "    <tr>\n",
       "      <th>max</th>\n",
       "      <td>7.000000</td>\n",
       "      <td>9.000000</td>\n",
       "      <td>103.100000</td>\n",
       "      <td>68.600000</td>\n",
       "      <td>96.500000</td>\n",
       "      <td>43.000000</td>\n",
       "      <td>77.900000</td>\n",
       "      <td>56.200000</td>\n",
       "      <td>17.800000</td>\n",
       "      <td>32.000000</td>\n",
       "      <td>40.000000</td>\n",
       "    </tr>\n",
       "  </tbody>\n",
       "</table>\n",
       "</div>"
      ],
      "text/plain": [
       "             site         age     hdlngth      skullw    totlngth       taill  \\\n",
       "count  104.000000  102.000000  104.000000  104.000000  104.000000  104.000000   \n",
       "mean     3.625000    3.833333   92.602885   56.883654   87.088462   37.009615   \n",
       "std      2.349086    1.909244    3.573349    3.113426    4.310549    1.959518   \n",
       "min      1.000000    1.000000   82.500000   50.000000   75.000000   32.000000   \n",
       "25%      1.000000    2.250000   90.675000   54.975000   84.000000   35.875000   \n",
       "50%      3.000000    3.000000   92.800000   56.350000   88.000000   37.000000   \n",
       "75%      6.000000    5.000000   94.725000   58.100000   90.000000   38.000000   \n",
       "max      7.000000    9.000000  103.100000   68.600000   96.500000   43.000000   \n",
       "\n",
       "         footlgth    earconch         eye       chest       belly  \n",
       "count  103.000000  104.000000  104.000000  104.000000  104.000000  \n",
       "mean    68.459223   48.130769   15.046154   27.000000   32.586538  \n",
       "std      4.395306    4.109380    1.050374    2.045597    2.761949  \n",
       "min     60.300000   40.300000   12.800000   22.000000   25.000000  \n",
       "25%     64.600000   44.800000   14.400000   25.500000   31.000000  \n",
       "50%     68.000000   46.800000   14.900000   27.000000   32.500000  \n",
       "75%     72.500000   52.000000   15.725000   28.000000   34.125000  \n",
       "max     77.900000   56.200000   17.800000   32.000000   40.000000  "
      ]
     },
     "execution_count": 2,
     "metadata": {},
     "output_type": "execute_result"
    }
   ],
   "source": [
    "df = pd.read_csv('possum.csv', index_col='case')\n",
    "df.describe()"
   ]
  },
  {
   "cell_type": "code",
   "execution_count": 3,
   "id": "a4cedf2f",
   "metadata": {},
   "outputs": [],
   "source": [
    "df.drop(columns=['site', 'Pop'], inplace=True)"
   ]
  },
  {
   "cell_type": "code",
   "execution_count": 4,
   "id": "8de3d82d",
   "metadata": {},
   "outputs": [
    {
     "data": {
      "text/plain": [
       "sex         0\n",
       "age         2\n",
       "hdlngth     0\n",
       "skullw      0\n",
       "totlngth    0\n",
       "taill       0\n",
       "footlgth    1\n",
       "earconch    0\n",
       "eye         0\n",
       "chest       0\n",
       "belly       0\n",
       "dtype: int64"
      ]
     },
     "execution_count": 4,
     "metadata": {},
     "output_type": "execute_result"
    }
   ],
   "source": [
    "df.isna().sum()"
   ]
  },
  {
   "cell_type": "code",
   "execution_count": 5,
   "id": "22552bc2",
   "metadata": {},
   "outputs": [],
   "source": [
    "df.dropna(inplace=True)"
   ]
  },
  {
   "cell_type": "code",
   "execution_count": 6,
   "id": "5ddd1366",
   "metadata": {},
   "outputs": [],
   "source": [
    "one_hot = pd.get_dummies(df['sex'])"
   ]
  },
  {
   "cell_type": "code",
   "execution_count": 7,
   "id": "5b92ec9d",
   "metadata": {},
   "outputs": [
    {
     "data": {
      "text/html": [
       "<div>\n",
       "<style scoped>\n",
       "    .dataframe tbody tr th:only-of-type {\n",
       "        vertical-align: middle;\n",
       "    }\n",
       "\n",
       "    .dataframe tbody tr th {\n",
       "        vertical-align: top;\n",
       "    }\n",
       "\n",
       "    .dataframe thead th {\n",
       "        text-align: right;\n",
       "    }\n",
       "</style>\n",
       "<table border=\"1\" class=\"dataframe\">\n",
       "  <thead>\n",
       "    <tr style=\"text-align: right;\">\n",
       "      <th></th>\n",
       "      <th>age</th>\n",
       "      <th>hdlngth</th>\n",
       "      <th>skullw</th>\n",
       "      <th>totlngth</th>\n",
       "      <th>taill</th>\n",
       "      <th>footlgth</th>\n",
       "      <th>earconch</th>\n",
       "      <th>eye</th>\n",
       "      <th>chest</th>\n",
       "      <th>belly</th>\n",
       "      <th>f</th>\n",
       "      <th>m</th>\n",
       "    </tr>\n",
       "    <tr>\n",
       "      <th>case</th>\n",
       "      <th></th>\n",
       "      <th></th>\n",
       "      <th></th>\n",
       "      <th></th>\n",
       "      <th></th>\n",
       "      <th></th>\n",
       "      <th></th>\n",
       "      <th></th>\n",
       "      <th></th>\n",
       "      <th></th>\n",
       "      <th></th>\n",
       "      <th></th>\n",
       "    </tr>\n",
       "  </thead>\n",
       "  <tbody>\n",
       "    <tr>\n",
       "      <th>1</th>\n",
       "      <td>8.0</td>\n",
       "      <td>94.1</td>\n",
       "      <td>60.4</td>\n",
       "      <td>89.0</td>\n",
       "      <td>36.0</td>\n",
       "      <td>74.5</td>\n",
       "      <td>54.5</td>\n",
       "      <td>15.2</td>\n",
       "      <td>28.0</td>\n",
       "      <td>36.0</td>\n",
       "      <td>False</td>\n",
       "      <td>True</td>\n",
       "    </tr>\n",
       "    <tr>\n",
       "      <th>2</th>\n",
       "      <td>6.0</td>\n",
       "      <td>92.5</td>\n",
       "      <td>57.6</td>\n",
       "      <td>91.5</td>\n",
       "      <td>36.5</td>\n",
       "      <td>72.5</td>\n",
       "      <td>51.2</td>\n",
       "      <td>16.0</td>\n",
       "      <td>28.5</td>\n",
       "      <td>33.0</td>\n",
       "      <td>True</td>\n",
       "      <td>False</td>\n",
       "    </tr>\n",
       "    <tr>\n",
       "      <th>3</th>\n",
       "      <td>6.0</td>\n",
       "      <td>94.0</td>\n",
       "      <td>60.0</td>\n",
       "      <td>95.5</td>\n",
       "      <td>39.0</td>\n",
       "      <td>75.4</td>\n",
       "      <td>51.9</td>\n",
       "      <td>15.5</td>\n",
       "      <td>30.0</td>\n",
       "      <td>34.0</td>\n",
       "      <td>True</td>\n",
       "      <td>False</td>\n",
       "    </tr>\n",
       "    <tr>\n",
       "      <th>4</th>\n",
       "      <td>6.0</td>\n",
       "      <td>93.2</td>\n",
       "      <td>57.1</td>\n",
       "      <td>92.0</td>\n",
       "      <td>38.0</td>\n",
       "      <td>76.1</td>\n",
       "      <td>52.2</td>\n",
       "      <td>15.2</td>\n",
       "      <td>28.0</td>\n",
       "      <td>34.0</td>\n",
       "      <td>True</td>\n",
       "      <td>False</td>\n",
       "    </tr>\n",
       "    <tr>\n",
       "      <th>5</th>\n",
       "      <td>2.0</td>\n",
       "      <td>91.5</td>\n",
       "      <td>56.3</td>\n",
       "      <td>85.5</td>\n",
       "      <td>36.0</td>\n",
       "      <td>71.0</td>\n",
       "      <td>53.2</td>\n",
       "      <td>15.1</td>\n",
       "      <td>28.5</td>\n",
       "      <td>33.0</td>\n",
       "      <td>True</td>\n",
       "      <td>False</td>\n",
       "    </tr>\n",
       "    <tr>\n",
       "      <th>...</th>\n",
       "      <td>...</td>\n",
       "      <td>...</td>\n",
       "      <td>...</td>\n",
       "      <td>...</td>\n",
       "      <td>...</td>\n",
       "      <td>...</td>\n",
       "      <td>...</td>\n",
       "      <td>...</td>\n",
       "      <td>...</td>\n",
       "      <td>...</td>\n",
       "      <td>...</td>\n",
       "      <td>...</td>\n",
       "    </tr>\n",
       "    <tr>\n",
       "      <th>100</th>\n",
       "      <td>1.0</td>\n",
       "      <td>89.5</td>\n",
       "      <td>56.0</td>\n",
       "      <td>81.5</td>\n",
       "      <td>36.5</td>\n",
       "      <td>66.0</td>\n",
       "      <td>46.8</td>\n",
       "      <td>14.8</td>\n",
       "      <td>23.0</td>\n",
       "      <td>27.0</td>\n",
       "      <td>False</td>\n",
       "      <td>True</td>\n",
       "    </tr>\n",
       "    <tr>\n",
       "      <th>101</th>\n",
       "      <td>1.0</td>\n",
       "      <td>88.6</td>\n",
       "      <td>54.7</td>\n",
       "      <td>82.5</td>\n",
       "      <td>39.0</td>\n",
       "      <td>64.4</td>\n",
       "      <td>48.0</td>\n",
       "      <td>14.0</td>\n",
       "      <td>25.0</td>\n",
       "      <td>33.0</td>\n",
       "      <td>False</td>\n",
       "      <td>True</td>\n",
       "    </tr>\n",
       "    <tr>\n",
       "      <th>102</th>\n",
       "      <td>6.0</td>\n",
       "      <td>92.4</td>\n",
       "      <td>55.0</td>\n",
       "      <td>89.0</td>\n",
       "      <td>38.0</td>\n",
       "      <td>63.5</td>\n",
       "      <td>45.4</td>\n",
       "      <td>13.0</td>\n",
       "      <td>25.0</td>\n",
       "      <td>30.0</td>\n",
       "      <td>True</td>\n",
       "      <td>False</td>\n",
       "    </tr>\n",
       "    <tr>\n",
       "      <th>103</th>\n",
       "      <td>4.0</td>\n",
       "      <td>91.5</td>\n",
       "      <td>55.2</td>\n",
       "      <td>82.5</td>\n",
       "      <td>36.5</td>\n",
       "      <td>62.9</td>\n",
       "      <td>45.9</td>\n",
       "      <td>15.4</td>\n",
       "      <td>25.0</td>\n",
       "      <td>29.0</td>\n",
       "      <td>False</td>\n",
       "      <td>True</td>\n",
       "    </tr>\n",
       "    <tr>\n",
       "      <th>104</th>\n",
       "      <td>3.0</td>\n",
       "      <td>93.6</td>\n",
       "      <td>59.9</td>\n",
       "      <td>89.0</td>\n",
       "      <td>40.0</td>\n",
       "      <td>67.6</td>\n",
       "      <td>46.0</td>\n",
       "      <td>14.8</td>\n",
       "      <td>28.5</td>\n",
       "      <td>33.5</td>\n",
       "      <td>True</td>\n",
       "      <td>False</td>\n",
       "    </tr>\n",
       "  </tbody>\n",
       "</table>\n",
       "<p>101 rows × 12 columns</p>\n",
       "</div>"
      ],
      "text/plain": [
       "      age  hdlngth  skullw  totlngth  taill  footlgth  earconch   eye  chest  \\\n",
       "case                                                                           \n",
       "1     8.0     94.1    60.4      89.0   36.0      74.5      54.5  15.2   28.0   \n",
       "2     6.0     92.5    57.6      91.5   36.5      72.5      51.2  16.0   28.5   \n",
       "3     6.0     94.0    60.0      95.5   39.0      75.4      51.9  15.5   30.0   \n",
       "4     6.0     93.2    57.1      92.0   38.0      76.1      52.2  15.2   28.0   \n",
       "5     2.0     91.5    56.3      85.5   36.0      71.0      53.2  15.1   28.5   \n",
       "...   ...      ...     ...       ...    ...       ...       ...   ...    ...   \n",
       "100   1.0     89.5    56.0      81.5   36.5      66.0      46.8  14.8   23.0   \n",
       "101   1.0     88.6    54.7      82.5   39.0      64.4      48.0  14.0   25.0   \n",
       "102   6.0     92.4    55.0      89.0   38.0      63.5      45.4  13.0   25.0   \n",
       "103   4.0     91.5    55.2      82.5   36.5      62.9      45.9  15.4   25.0   \n",
       "104   3.0     93.6    59.9      89.0   40.0      67.6      46.0  14.8   28.5   \n",
       "\n",
       "      belly      f      m  \n",
       "case                       \n",
       "1      36.0  False   True  \n",
       "2      33.0   True  False  \n",
       "3      34.0   True  False  \n",
       "4      34.0   True  False  \n",
       "5      33.0   True  False  \n",
       "...     ...    ...    ...  \n",
       "100    27.0  False   True  \n",
       "101    33.0  False   True  \n",
       "102    30.0   True  False  \n",
       "103    29.0  False   True  \n",
       "104    33.5   True  False  \n",
       "\n",
       "[101 rows x 12 columns]"
      ]
     },
     "execution_count": 7,
     "metadata": {},
     "output_type": "execute_result"
    }
   ],
   "source": [
    "df = pd.concat([df, one_hot], axis=1)\n",
    "df.drop(columns=['sex'], inplace=True)\n",
    "df"
   ]
  },
  {
   "cell_type": "code",
   "execution_count": 8,
   "id": "2d7d34e5",
   "metadata": {},
   "outputs": [
    {
     "data": {
      "text/plain": [
       "np.float64(3.7288135593220337)"
      ]
     },
     "execution_count": 8,
     "metadata": {},
     "output_type": "execute_result"
    },
    {
     "data": {
      "image/png": "[encoded data removed]",
      "text/plain": [
       "<Figure size 640x480 with 1 Axes>"
      ]
     },
     "metadata": {},
     "output_type": "display_data"
    }
   ],
   "source": [
    "import matplotlib.pyplot as plt\n",
    "\n",
    "f_age = df.loc[(df.f==True)]['age']\n",
    "m_age = df.loc[(df.m==True)]['age']\n",
    "\n",
    "plt.hist(f_age, color='red', alpha=0.5)\n",
    "plt.hist(m_age, color='blue', alpha=0.5)\n",
    "\n",
    "m_age.mean()"
   ]
  },
  {
   "cell_type": "code",
   "execution_count": 9,
   "id": "34169411",
   "metadata": {},
   "outputs": [],
   "source": [
    "df.drop(columns=['f', 'm'], inplace=True)\n",
    "X = df.drop(columns='age').values\n",
    "y = df.age.values"
   ]
  },
  {
   "cell_type": "code",
   "execution_count": 21,
   "id": "9f36ca3f",
   "metadata": {},
   "outputs": [],
   "source": [
    "X_train, X_test, y_train, y_test = train_test_split(X, y, shuffle=True, random_state=44, test_size=0.2)"
   ]
  },
  {
   "cell_type": "code",
   "execution_count": 22,
   "id": "f24e25d8",
   "metadata": {},
   "outputs": [
    {
     "data": {
      "text/plain": [
       "array([4.4, 4. , 3.2, 5.8, 4. , 4. , 4.6, 2.4, 4.6, 3.8, 2. , 5. , 3. ,\n",
       "       5.2, 5.8, 5. , 2.2, 2.8, 4.8, 1.6, 3. ])"
      ]
     },
     "execution_count": 22,
     "metadata": {},
     "output_type": "execute_result"
    }
   ],
   "source": [
    "model = KNeighborsRegressor(n_neighbors=5)\n",
    "model.fit(X_train, y_train)\n",
    "\n",
    "y_pred = model.predict(X_test)\n",
    "y_pred"
   ]
  },
  {
   "cell_type": "markdown",
   "id": "f4efbdd6",
   "metadata": {},
   "source": [
    "Итак, мы научились объявлять модель, обучать ее и получать предсказания на тестовые элементы. Давайте теперь подумаем, как оценивать то, насколько хороша наша модель. Роль оценки моделей на себя берут метрики. Это функции, которые принимают на вход правильные ответы на тестовые данные и ответы модели, и выдают число — меру \"хорошести\" предсказаний модели. Для каждой задачи сущесвуют свои метрики. В данном семинаре мы рассмотрим лишь несколько метрик для задачи регрессии. Более подробный обзор метрик для задач регрессии и классификации можно найти в [Yandex ML Book](https://education.yandex.ru/handbook/ml/article/metriki-klassifikacii-i-regressii).\n"
   ]
  },
  {
   "cell_type": "markdown",
   "id": "6f05cd59",
   "metadata": {},
   "source": [
    "Для нашей задачи мы будем использовать метрику MSE\n",
    "\n",
    "**MSE** (Mean Squared Error, или, по русски, среднеквадратичная ошибка) — одна из самых популярных метрик в задаче регрессии. MSE считается по следующей формуле:\n",
    "\n",
    "$$MSE(y_{true}, y_{pred}) = \\frac{1}{N}\\sum_{i=1}^{n} (y^{true}_i - y^{pred}_i)^2$$\n",
    "\n",
    "Иногда для того, чтобы значение метрики MSE имело масштаб значений целевой переменной, из него извлекают квадратный корень. Это называют метрикой RMSE (Root Mean Squared Error):\n",
    "\n",
    "$$RMSE(y_{true}, y_{pred}) = \\sqrt{\\frac{1}{N}\\sum_{i=1}^{n} (y^{true}_i - y^{pred}_i)^2}$$\n",
    "\n",
    "MSE не ограничен сверху. По значению MSE может быть нелегко понять, насколько оно «хороше» или «плохое». Для ориентира часто берут наилучшее константное предсказание с точки зрения MSE — среднее арифметическое значений целевой переменной обучающей части данных. Далее можно посчитать метрику $R^2$:\n",
    "\n",
    "$$R^2(y_{true}, y_{pred}) = 1 - \\frac{\\sum_{i=1}^{n} (y^{true}_i - y^{pred}_i)^2}{\\sum_{i=1}^{n} (y^{true}_i - y^{true}_{mean})^2}$$\n",
    "\n",
    "Верхняя граница $R^2$ — 1. Чем значение $R^2$, тем лучше обучилась модель.\n",
    "\n",
    "Так как в MSE ошибка на каждом элементе возводится в квадрат, MSE сильно штрафует за большие ошибки на элементах. И если в наших тестовых данных присутствуют выбросы, то ошибки на этих выбросах будут вносить существенный вклад в MSE, и, чтобы уменьшить метрику, модель будет стараться уменьшать ошибки именно на этих на объектах-выбросах, а не на остальных элементах. Поэтому MSE может быть не лучшей метрикой для сравнения моделей на выборках с большим количеством выбросов. В таких случаях прибегают к метрике MAE (Mean Absolute Error):\n",
    "\n",
    "$$MAE(y_{true}, y_{pred}) = \\frac{1}{N}\\sum_{i=1}^{n} |y^{true}_i - y^{pred}_i|$$\n",
    "\n",
    "Существуют и другие метрики для задачи регрессии. Каждая метрика используется под определенные случаи. Какие метрики есть в sklearn, можно посмотреть [здесь](https://scikit-learn.org/stable/modules/model_evaluation.html).\n",
    "\n",
    "В наших данных нет сильных выбросов, поэтому вполне можно использовать MSE в качестве метрики. Но для наглядности мы рассмотрим все упомянутые выше метрики.\n"
   ]
  },
  {
   "cell_type": "code",
   "execution_count": 24,
   "id": "7498aa00",
   "metadata": {},
   "outputs": [],
   "source": [
    "from sklearn.metrics import r2_score, mean_absolute_error, mean_squared_error, f1_score"
   ]
  },
  {
   "cell_type": "code",
   "execution_count": 26,
   "id": "57c4a0c3",
   "metadata": {},
   "outputs": [
    {
     "data": {
      "text/plain": [
       "0.30630849220103984"
      ]
     },
     "execution_count": 26,
     "metadata": {},
     "output_type": "execute_result"
    }
   ],
   "source": [
    "r2_score(y_test, y_pred)"
   ]
  },
  {
   "cell_type": "code",
   "execution_count": 32,
   "id": "4e290e18",
   "metadata": {},
   "outputs": [
    {
     "data": {
      "text/plain": [
       "dict_items([('fit_time', array([0.00095105, 0.00088787, 0.00103188, 0.00130868, 0.00095844])), ('score_time', array([0.00110674, 0.00083685, 0.00077844, 0.00112081, 0.00078845])), ('test_r2', array([-0.57100592, -1.05443371, -0.97983501, -0.49584488, -0.72131148])), ('train_r2', array([1., 1., 1., 1., 1.])), ('test_mean_squared_error', array([8.42857143, 5.85      , 5.4       , 5.4       , 4.2       ])), ('train_mean_squared_error', array([0., 0., 0., 0., 0.]))])"
      ]
     },
     "execution_count": 32,
     "metadata": {},
     "output_type": "execute_result"
    }
   ],
   "source": [
    "from sklearn.metrics import make_scorer\n",
    "from sklearn.model_selection import cross_validate\n",
    "\n",
    "scores = cross_validate(DecisionTreeRegressor(random_state=44), X, y, cv=5, scoring={'r2': make_scorer(r2_score), 'mean_squared_error': make_scorer(mean_squared_error)}, return_train_score=True)\n",
    "\n",
    "scores.items()"
   ]
  },
  {
   "cell_type": "code",
   "execution_count": null,
   "id": "46f77dee",
   "metadata": {},
   "outputs": [
    {
     "data": {
      "text/plain": [
       "{'algorithm': 'auto',\n",
       " 'leaf_size': 30,\n",
       " 'metric': 'minkowski',\n",
       " 'metric_params': None,\n",
       " 'n_jobs': None,\n",
       " 'n_neighbors': 5,\n",
       " 'p': 2,\n",
       " 'weights': 'uniform'}"
      ]
     },
     "execution_count": 34,
     "metadata": {},
     "output_type": "execute_result"
    }
   ],
   "source": [
    "model.get_params()    ## удобно выводить параметры"
   ]
  },
  {
   "cell_type": "code",
   "execution_count": 36,
   "id": "7038b4c5",
   "metadata": {},
   "outputs": [
    {
     "name": "stdout",
     "output_type": "stream",
     "text": [
      "{'max_depth': np.int64(1), 'min_samples_leaf': 1}\n"
     ]
    }
   ],
   "source": [
    "from sklearn.model_selection import GridSearchCV\n",
    "model = DecisionTreeRegressor()\n",
    "param_grid = {\n",
    "    'max_depth': np.arange(1, 5),\n",
    "    'min_samples_leaf': [1, 2, 3]\n",
    "}\n",
    "\n",
    "gridsearch = GridSearchCV(model, param_grid, refit=True, scoring=make_scorer(r2_score))\n",
    "\n",
    "gridsearch.fit(X_train, y_train)\n",
    "\n",
    "print(gridsearch.best_params_)"
   ]
  },
  {
   "cell_type": "markdown",
   "id": "1a8d56b6",
   "metadata": {},
   "source": [
    "#### Сохранение модели"
   ]
  },
  {
   "cell_type": "code",
   "execution_count": 39,
   "id": "9735e560",
   "metadata": {},
   "outputs": [],
   "source": [
    "import pickle"
   ]
  },
  {
   "cell_type": "code",
   "execution_count": 40,
   "id": "7d7f5256",
   "metadata": {},
   "outputs": [],
   "source": [
    "filename = 'finalized_model.sav'\n",
    "pickle.dump(model, open(filename, 'wb'))\n",
    "\n",
    "loaded_model = pickle.load(open(filename, 'rb'))"
   ]
  },
  {
   "cell_type": "code",
   "execution_count": null,
   "id": "2b19bea0",
   "metadata": {},
   "outputs": [],
   "source": []
  }
 ],
 "metadata": {
  "kernelspec": {
   "display_name": "Python 3",
   "language": "python",
   "name": "python3"
  },
  "language_info": {
   "codemirror_mode": {
    "name": "ipython",
    "version": 3
   },
   "file_extension": ".py",
   "mimetype": "text/x-python",
   "name": "python",
   "nbconvert_exporter": "python",
   "pygments_lexer": "ipython3",
   "version": "3.13.7"
  }
 },
 "nbformat": 4,
 "nbformat_minor": 5
}
